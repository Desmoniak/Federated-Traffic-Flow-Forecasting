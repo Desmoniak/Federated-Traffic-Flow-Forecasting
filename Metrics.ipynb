{
 "cells": [
  {
   "cell_type": "code",
   "execution_count": 7,
   "metadata": {},
   "outputs": [
    {
     "ename": "EOFError",
     "evalue": "Ran out of input",
     "output_type": "error",
     "traceback": [
      "\u001b[1;31m---------------------------------------------------------------------------\u001b[0m",
      "\u001b[1;31mEOFError\u001b[0m                                  Traceback (most recent call last)",
      "Cell \u001b[1;32mIn[7], line 7\u001b[0m\n\u001b[0;32m      5\u001b[0m \u001b[39mfor\u001b[39;00m file \u001b[39min\u001b[39;00m file_list: \n\u001b[0;32m      6\u001b[0m     \u001b[39mwith\u001b[39;00m \u001b[39mopen\u001b[39m(file,\u001b[39m'\u001b[39m\u001b[39mrb\u001b[39m\u001b[39m'\u001b[39m) \u001b[39mas\u001b[39;00m f:\n\u001b[1;32m----> 7\u001b[0m         \u001b[39mdict\u001b[39m[file]\u001b[39m=\u001b[39m pickle\u001b[39m.\u001b[39;49mload(f)\n",
      "\u001b[1;31mEOFError\u001b[0m: Ran out of input"
     ]
    }
   ],
   "source": [
    "import glob\n",
    "import pickle\n",
    "dict={}\n",
    "file_list = file_list = ['./experiment/metricclusterGsize10.pkl',\n",
    " './experiment/metricclusterGsize15.pkl',\n",
    " './experiment/metricclusterGsize3.pkl',\n",
    " './experiment/metricclusterGsize5.pkl',\n",
    " './experiment/metricclusterGsize6.pkl',\n",
    " './experiment/metricclusterGsize9.pkl',\n",
    " './experiment/metricclusterS1.pkl',\n",
    " './experiment/metricclusterS10.pkl',\n",
    " './experiment/metricclusterS15.pkl',\n",
    " './experiment/metricclusterS5.pkl',\n",
    " './experiment/metricnewS1.pkl']\n",
    "\n",
    "for file in file_list: \n",
    "    with open(file,'rb') as f:\n",
    "        dict[file]= pickle.load(f)\n",
    "        "
   ]
  }
 ],
 "metadata": {
  "kernelspec": {
   "display_name": "base",
   "language": "python",
   "name": "python3"
  },
  "language_info": {
   "codemirror_mode": {
    "name": "ipython",
    "version": 3
   },
   "file_extension": ".py",
   "mimetype": "text/x-python",
   "name": "python",
   "nbconvert_exporter": "python",
   "pygments_lexer": "ipython3",
   "version": "3.10.9"
  },
  "orig_nbformat": 4
 },
 "nbformat": 4,
 "nbformat_minor": 2
}
