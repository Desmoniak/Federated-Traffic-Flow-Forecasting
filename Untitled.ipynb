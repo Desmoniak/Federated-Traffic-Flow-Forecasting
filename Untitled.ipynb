{
 "cells": [
  {
   "cell_type": "code",
   "execution_count": 1,
   "id": "9bc89254",
   "metadata": {},
   "outputs": [],
   "source": [
    "import numpy as np\n",
    "import pandas as pd\n",
    "import matplotlib.pyplot as plt\n",
    "import torch\n",
    "import torch.nn as nn\n",
    "import torch.optim as optim\n",
    "\n",
    "flow_file= \"./data/PEMS04/PEMS04.npz\"\n",
    "csv_file = \"./data/PEMS04/distance.csv\"\n",
    "\n",
    "data = np.load(flow_file)\n",
    "df = pd.read_csv(csv_file)\n",
    "TS = data['data']\n",
    "flow = TS[:,:,0]\n",
    "# flow dict 100 time series is the sensor number and the value the traffic flow times serie\n",
    "flow_dict={k:flow[:,k] for k in range(100)}\n",
    "# list of the first 10 connected sensor, each sensor traffic flow is contained in PeMS \n",
    "PeMS = pd.DataFrame(flow_dict)\n",
    "# time serie of sensor k\n",
    "#creation of the datetime index\n",
    "start_date = \"2018-01-01 00:00:00\"\n",
    "end_date = \"2018-02-28 23:55:00\"\n",
    "interval = \"5min\"\n",
    "index = pd.date_range(start=start_date, end=end_date, freq=interval)\n",
    "PeMS = PeMS.set_index(index)\n",
    "df = PeMS[0][:\"2018-01-01 18:00:00\"].values\n"
   ]
  },
  {
   "cell_type": "code",
   "execution_count": null,
   "id": "4c3e0925",
   "metadata": {},
   "outputs": [],
   "source": [
    "from scipy import signal\n",
    "df = signal.savgol_filter(df, window_length=5, polyorder=2)"
   ]
  },
  {
   "cell_type": "code",
   "execution_count": null,
   "id": "73b0667f",
   "metadata": {},
   "outputs": [],
   "source": []
  }
 ],
 "metadata": {
  "kernelspec": {
   "display_name": "Python 3 (ipykernel)",
   "language": "python",
   "name": "python3"
  },
  "language_info": {
   "codemirror_mode": {
    "name": "ipython",
    "version": 3
   },
   "file_extension": ".py",
   "mimetype": "text/x-python",
   "name": "python",
   "nbconvert_exporter": "python",
   "pygments_lexer": "ipython3",
   "version": "3.10.9"
  }
 },
 "nbformat": 4,
 "nbformat_minor": 5
}
