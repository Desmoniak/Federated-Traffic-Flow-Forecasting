{
 "cells": [
  {
   "cell_type": "code",
   "execution_count": 2,
   "metadata": {},
   "outputs": [],
   "source": [
    "# n_nodes = 'number of nodes'\n",
    "# main_model = 'Model central'\n",
    "# model_dict = init_nodes_dict(n_nodes, main_model) dictionnary of local models\n",
    "\n",
    "import copy\n",
    "def init_model(n_nodes,main_model):\n",
    "    return {k:copy.deepcopy(model)}"
   ]
  },
  {
   "cell_type": "code",
   "execution_count": 1,
   "metadata": {},
   "outputs": [],
   "source": [
    "def send_model(main_model, model_dict, number_of_nodes): #send model to nodes\n",
    "    with torch.no_grad():\n",
    "        for i in range(number_of_nodes):\n",
    "            state_dict= copy.deepcopy(main_model.state_dict())\n",
    "            model_dict[i].load_state_dict(state_dict)\n",
    "    return model_dict    \n"
   ]
  },
  {
   "cell_type": "code",
   "execution_count": null,
   "metadata": {},
   "outputs": [],
   "source": [
    "def fedavg(main_model, model_dict, number_of_nodes): \n",
    "    state_dict = model_dict[0].state_dict()\n",
    "    for name, param in model_dict[0].named_parameters():\n",
    "        for i in range(1, number_of_nodes):\n",
    "            state_dict[name]=  state_dict[name] + model_dict[i].state_dict()[name]\n",
    "        state_dict[name] = state_dict[name]/number_of_nodes\n",
    "    new_model = copy.deepcopy(model)\n",
    "    new_model.load_state_dict(state_dict)\n",
    "    return new_model"
   ]
  },
  {
   "cell_type": "code",
   "execution_count": null,
   "metadata": {},
   "outputs": [],
   "source": [
    "def training_plan(main_model,model_dict,data_load, Round=3, number_of_nodes=2):\n",
    "    device = torch.device(\"cuda:0\" if torch.cuda.is_available() else \"cpu\")   \n",
    "    for i in range(Round):\n",
    "        print('Round '+ str(i+1))\n",
    "        print('Sending main model to nodes in round '+ str(i+1))\n",
    "        model_dict = send_main_model_to_nodes_and_update_model_dict(main_model, model_dict, number_of_nodes)\n",
    "        for j in model_dict.keys():\n",
    "            print('training {} for Round {} :'.format(j,i))\n",
    "            model = model_dict[j].to(device)\n",
    "            optimizer = optim.SGD(model.parameters(), lr=0.001)\n",
    "            scheduler = lr_scheduler.StepLR(optimizer, step_size=5, gamma=0.1)\n",
    "            train_loader = trans[j]\n",
    "            valid_loader =  data_load[j][3]\n",
    "            train_set =  data_load[j][0]\n",
    "            valid_set =  data_load[j][1]\n",
    "            model_dict[j] = train_model(model, criterion, optimizer, scheduler,  train_loader, valid_loader, train_set, valid_set)\n",
    "        print('Fedavg of main model in round '+ str(i+1))\n",
    "        main_model = fedavg(main_model, model_dict, number_of_nodes)    \n",
    "        \n",
    "    return model_dict, main_model"
   ]
  },
  {
   "cell_type": "code",
   "execution_count": null,
   "metadata": {},
   "outputs": [],
   "source": [
    "def create_model_dict(number_of_nodes):\n",
    "    model_dict = dict()\n",
    "    \n",
    "    for i in range(number_of_nodes):\n",
    "        model_name=\"node\"+str(i)\n",
    "        model_info= Mymodel().resnet\n",
    "        model_dict.update({model_name : model_info })\n",
    "        \n",
    "        \n",
    "    return model_dict"
   ]
  },
  {
   "cell_type": "code",
   "execution_count": null,
   "metadata": {},
   "outputs": [],
   "source": [
    "def send_main_model_to_nodes_and_update_model_dict(main_model, model_dict, number_of_nodes): \n",
    "    with torch.no_grad():\n",
    "        for i in range(number_of_nodes):\n",
    "            state_dict= copy.deepcopy(main_model.state_dict())\n",
    "            model_dict[name_of_models[i]].load_state_dict(state_dict)\n",
    "    return model_dict"
   ]
  }
 ],
 "metadata": {
  "kernelspec": {
   "display_name": "base",
   "language": "python",
   "name": "python3"
  },
  "language_info": {
   "codemirror_mode": {
    "name": "ipython",
    "version": 3
   },
   "file_extension": ".py",
   "mimetype": "text/x-python",
   "name": "python",
   "nbconvert_exporter": "python",
   "pygments_lexer": "ipython3",
   "version": "3.10.9"
  },
  "orig_nbformat": 4,
  "vscode": {
   "interpreter": {
    "hash": "5838ee9d1e27b0c8776a2c47d844e546f7c02646b3dffe8b9f56b6c67f7dd71a"
   }
  }
 },
 "nbformat": 4,
 "nbformat_minor": 2
}
