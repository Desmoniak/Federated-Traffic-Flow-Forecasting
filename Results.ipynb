{
 "cells": [
  {
   "cell_type": "code",
   "execution_count": 3,
   "metadata": {},
   "outputs": [],
   "source": [
    "import pickle\n",
    "from script.util import LSTMModel, rmspe, maape\n",
    "import numpy as np\n",
    "import pandas as pd\n",
    "import matplotlib.pyplot as plt\n",
    "import torch\n",
    "import torch.nn as nn\n",
    "import torch.optim as optim\n",
    "import copy\n",
    "from torch.utils.data import Dataset, DataLoader\n",
    "from sklearn.metrics import mean_absolute_error, mean_squared_error, mean_absolute_percentage_error\n",
    "from random import randint\n",
    "import matplotlib.pyplot as plt\n",
    "import networkx as nx\n",
    "from sklearn.metrics import mean_absolute_error, mean_squared_error\n",
    "from random import randint\n",
    "\n",
    "# Use this \n",
    "PeMS = pd.read_csv(\"./data/PEMS04/PeMS04flow.csv\",index_col=0)\n",
    "maximum = PeMS.max().max()"
   ]
  },
  {
   "cell_type": "code",
   "execution_count": 107,
   "metadata": {},
   "outputs": [
    {
     "data": {
      "text/plain": [
       "[1, [2, 3]]"
      ]
     },
     "execution_count": 107,
     "metadata": {},
     "output_type": "execute_result"
    }
   ],
   "source": [
    "filelist =[\"newS1.pkl\",\"clusterS5.pkl\",\"clusterS10.pkl\"]"
   ]
  },
  {
   "cell_type": "code",
   "execution_count": null,
   "metadata": {},
   "outputs": [],
   "source": []
  },
  {
   "cell_type": "code",
   "execution_count": 105,
   "metadata": {},
   "outputs": [],
   "source": [
    "def my_metric_dict(file,metric=rmse):\n",
    "    #Load the best model and evaluate on the test set\n",
    "    with open('./experiment/'+file, 'rb') as f:\n",
    "                dict = pickle.load(f)\n",
    "    device = torch.device('cuda' if torch.cuda.is_available() else 'cpu')\n",
    "    criterion = torch.nn.MSELoss()\n",
    "    size = dict[\"size\"]    \n",
    "    dictrmse = {}\n",
    "    dictrmspe = {}\n",
    "    for s in range(95+size):\n",
    "        if s ==\"size\":\n",
    "            continue\n",
    "        dictrmse[s] = []\n",
    "        dictrmspe[s]=[]\n",
    "    for s in range(80):\n",
    "        if s ==\"size\":\n",
    "            continue\n",
    "        best_model = dict[s][\"model\"]\n",
    "        best_model.double()\n",
    "        device = torch.device('cuda:0')\n",
    "        best_model.to(device)\n",
    "        test_loader = dict[s][\"test\"]\n",
    "        best_model.eval()\n",
    "\n",
    "        # Evaluate the model on the test set\n",
    "        test_loss = 0.0\n",
    "        predictions = []\n",
    "        actuals = []\n",
    "\n",
    "        with torch.no_grad():\n",
    "            for i, (inputs, targets) in enumerate(test_loader):\n",
    "                inputs = inputs.to(device)\n",
    "                targets = targets.to(device)\n",
    "                x = torch.Tensor(inputs).unsqueeze(1).to(device)\n",
    "                y = torch.Tensor(targets).unsqueeze(0).to(device)\n",
    "                outputs = best_model(inputs)\n",
    "                loss = criterion(outputs, targets)\n",
    "                test_loss += loss.item()\n",
    "                # Save the predictions and actual values for plotting later\n",
    "                predictions.append(outputs.cpu().numpy())\n",
    "                actuals.append(targets.cpu().numpy())\n",
    "                x            \n",
    "        test_loss /= len(test_loader)\n",
    "        # Concatenate the predictions and actuals\n",
    "\n",
    "        predictions = np.concatenate(predictions, axis=0)\n",
    "        actuals = np.concatenate(actuals, axis=0)\n",
    "        EPSILON = 1e-10\n",
    "        metric_dict_multi = {}\n",
    "        for k in range(size): \n",
    "            y_pred = predictions[:,k]*maximum\n",
    "            y_true = actuals[:,k]*maximum\n",
    "            rmse = np.sqrt(mean_squared_error(y_true, y_pred))\n",
    "            mae = mean_absolute_error(y_true, y_pred)\n",
    "            mape = mean_absolute_percentage_error(y_true,y_pred+EPSILON)\n",
    "            maape =  np.mean(np.arctan(np.abs((y_true - y_pred) / (y_true + EPSILON))))*100\n",
    "            rmspeval = rmspe(y_true,y_pred)\n",
    "            #print(s+k,' : ', rmse, maape)\n",
    "            dictrmse[s+k].append(rmspeval)\n",
    "            number_of_zero = len(y_true[y_true ==0])\n",
    "    return dictrmse \n",
    "\n"
   ]
  },
  {
   "cell_type": "code",
   "execution_count": 93,
   "metadata": {},
   "outputs": [],
   "source": [
    "file =\"newS1.pkl\"\n",
    "rmspe1 = my_metric_dict(file)\n"
   ]
  },
  {
   "cell_type": "code",
   "execution_count": 94,
   "metadata": {},
   "outputs": [],
   "source": [
    "file =\"clusterS5.pkl\"\n",
    "rmspe5 = my_metric_dict(file)\n",
    "\n"
   ]
  },
  {
   "cell_type": "code",
   "execution_count": 95,
   "metadata": {},
   "outputs": [],
   "source": [
    "file =\"clusterS10.pkl\"\n",
    "rmspe10 = my_metric_dict(file)"
   ]
  },
  {
   "cell_type": "code",
   "execution_count": 90,
   "metadata": {},
   "outputs": [],
   "source": [
    "allrmse = {}\n",
    "for i in range(80):\n",
    "    allrmse[i]= rmse1[i]+ rmse5[i] + rmse10[i]"
   ]
  },
  {
   "cell_type": "code",
   "execution_count": 77,
   "metadata": {},
   "outputs": [
    {
     "name": "stdout",
     "output_type": "stream",
     "text": [
      "For sensor 44 RMSE multivarié indice 5 : 12.619096488287484\n",
      "RMSE univarié : 12.82454595586525\n",
      " \n",
      "For sensor 45 RMSE multivarié indice 5 : 2.2830519519090324\n",
      "RMSE univarié : 2.4297174876368075\n",
      " \n",
      "For sensor 46 RMSE multivarié indice 4 : 2.2749591590119884\n",
      "RMSE univarié : 2.8676495810468317\n",
      " \n",
      "For sensor 47 RMSE multivarié indice 3 : 2.2742494901942387\n",
      "RMSE univarié : 2.402942770296334\n",
      " \n",
      "For sensor 48 RMSE multivarié indice 2 : 2.2991594667271533\n",
      "RMSE univarié : 2.7251702046132023\n",
      " \n",
      "For sensor 49 RMSE multivarié indice 1 : 2.2736563530308773\n",
      "RMSE univarié : 2.654160662823519\n",
      " \n"
     ]
    }
   ],
   "source": [
    "for i in range(80):\n",
    "    if allrmse[i].index(min(allrmse[i])) != 0 : \n",
    "        print('For sensor {} RMSE multivarié indice {} : {}'.format(i,allrmse[i].index(min(allrmse[i])),min(allrmse[i])))\n",
    "        print('RMSE univarié : {}'.format(allrmse[i][0]))\n",
    "        print(' ')"
   ]
  },
  {
   "cell_type": "code",
   "execution_count": 103,
   "metadata": {},
   "outputs": [
    {
     "name": "stdout",
     "output_type": "stream",
     "text": [
      "For sensor 44 RMSE multivarié indice 5 : 12.6191 %\n",
      "RMSE univarié : 155.1325 %\n",
      " \n",
      "For sensor 45 RMSE multivarié indice 5 : 2.2831 %\n",
      "RMSE univarié : 2.3286 %\n",
      " \n",
      "For sensor 46 RMSE multivarié indice 4 : 2.2750 %\n",
      "RMSE univarié : 3.3253 %\n",
      " \n",
      "For sensor 48 RMSE multivarié indice 2 : 2.2992 %\n",
      "RMSE univarié : 2.9554 %\n",
      " \n",
      "For sensor 49 RMSE multivarié indice 1 : 2.2737 %\n",
      "RMSE univarié : 3.2042 %\n",
      " \n"
     ]
    }
   ],
   "source": [
    "allrmspe = {}\n",
    "for i in range(80):\n",
    "    allrmspe[i]= rmspe1[i]+ rmspe5[i] + rmspe10[i]\n",
    "for i in range(43,50):    \n",
    "    if allrmspe[i].index(min(allrmspe[i])) != 0 : \n",
    "        print('For sensor {} RMSE multivarié indice {} : {:.4f} %'.format(i,allrmspe[i].index(min(allrmspe[i])),min(allrmse[i])))\n",
    "        print('RMSE univarié : {:.4f} %'.format(allrmspe[i][0]))\n",
    "        print(' ')"
   ]
  },
  {
   "cell_type": "code",
   "execution_count": null,
   "metadata": {},
   "outputs": [],
   "source": []
  }
 ],
 "metadata": {
  "kernelspec": {
   "display_name": "base",
   "language": "python",
   "name": "python3"
  },
  "language_info": {
   "codemirror_mode": {
    "name": "ipython",
    "version": 3
   },
   "file_extension": ".py",
   "mimetype": "text/x-python",
   "name": "python",
   "nbconvert_exporter": "python",
   "pygments_lexer": "ipython3",
   "version": "3.10.9"
  },
  "orig_nbformat": 4
 },
 "nbformat": 4,
 "nbformat_minor": 2
}
