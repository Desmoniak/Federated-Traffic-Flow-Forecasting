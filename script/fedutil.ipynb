{
 "cells": [
  {
   "cell_type": "code",
   "execution_count": 5,
   "metadata": {},
   "outputs": [],
   "source": [
    "from util import train_LSTM\n",
    "from util import my_data_loader"
   ]
  },
  {
   "cell_type": "code",
   "execution_count": 4,
   "metadata": {},
   "outputs": [],
   "source": [
    "import copy\n",
    "\n",
    "def init_model(n_nodes,main_model):\n",
    "    return {k:copy.deepcopy(main_model) for k in range(n_nodes)}\n",
    "    \n",
    "def send_model(main_model, model_dict, number_of_nodes): #send model to nodes\n",
    "    with torch.no_grad():\n",
    "        for i in range(number_of_nodes):\n",
    "            state_dict= copy.deepcopy(main_model.state_dict())\n",
    "            model_dict[i].load_state_dict(state_dict)\n",
    "    return model_dict\n",
    "\n",
    "def fedavg(main_model, model_dict, number_of_nodes): \n",
    "    state_dict = model_dict[0].state_dict()\n",
    "    for name, param in model_dict[0].named_parameters():\n",
    "        for i in range(1, number_of_nodes):\n",
    "            state_dict[name]=  state_dict[name] + model_dict[i].state_dict()[name]\n",
    "        state_dict[name] = state_dict[name]/number_of_nodes\n",
    "    new_model = copy.deepcopy(main_model)\n",
    "    new_model.load_state_dict(state_dict)\n",
    "    return new_model"
   ]
  },
  {
   "cell_type": "code",
   "execution_count": 9,
   "metadata": {},
   "outputs": [],
   "source": [
    "#define local dataset for each nodes\n",
    "def local_dataset(df, nodes=0,train_len = 0):\n",
    "    if nodes == 0 :\n",
    "        nodes = len(df.columns)\n",
    "    if train_len == 0 : \n",
    "        train_len(len(df))\n",
    "    # Define the sliding window size and stride\n",
    "    window_size = 7\n",
    "    stride = 1\n",
    "    data_dict={}\n",
    "    for i in range(nodes): \n",
    "        # Create datasets and data loaders for training, validation, and test sets\n",
    "    \n",
    "        train_data= pd.DataFrame(df.iloc[:,i][:int(train_len*0.7)])\n",
    "        val_data =  pd.DataFrame(df.iloc[:,i][:int(train_len*0.7): int(train_len*0.85)])\n",
    "        test_data = pd.DataFrame(df.iloc[:,i][int(train_len*0.85):])\n",
    "\n",
    "        \n",
    "        data_dict[i]={'train':my_data_loader(train_data),'val':my_data_loader(val_data),'test':my_data_loader(test_data),'test_data':test_data}\n",
    "    return data_dict"
   ]
  },
  {
   "cell_type": "code",
   "execution_count": 12,
   "metadata": {},
   "outputs": [],
   "source": [
    "import torch.cuda\n",
    "def train_local_model(model_number,local_model,train_loader, val_loader,num_epochs = 200):\n",
    "  # Train your model and evaluate on the validation set\n",
    "    # Define the loss function and optimizer\n",
    "    criterion = torch.nn.MSELoss()\n",
    "    device = torch.device(\"cuda\" if torch.cuda.is_available() else \"cpu\")\n",
    "    local_model.to(device)\n",
    "    optimizer = torch.optim.Adam(local_model.parameters(), lr=0.001)\n",
    "    best_val_loss = float('inf')\n",
    "    train_losses = []\n",
    "    valid_losses = []\n",
    "    for epoch in range(num_epochs):\n",
    "        train_loss = 0.0\n",
    "        for inputs, targets in train_loader:\n",
    "            optimizer.zero_grad()\n",
    "            inputs, targets = inputs.to(device), targets.to(device)\n",
    "            outputs = local_model(inputs.float())\n",
    "            loss = criterion(outputs, targets.float())\n",
    "            loss.backward()\n",
    "            optimizer.step()\n",
    "            train_loss += loss.item()\n",
    "            train_losses.append(loss.item())\n",
    "        val_loss = 0.0\n",
    "        \n",
    "        for inputs, targets in val_loader:\n",
    "            inputs, targets = inputs.to(device), targets.to(device)\n",
    "            outputs = local_model(inputs.float())\n",
    "            loss = criterion(outputs, targets.float())\n",
    "            val_loss += loss.item()            \n",
    "        val_loss /= len(val_loader)\n",
    "        valid_losses.append(val_loss)\n",
    "\n",
    "        if val_loss < best_val_loss:\n",
    "            best_val_loss = val_loss\n",
    "            torch.save(local_model.state_dict(), 'best_model_'+str(model_number)+'.pth')\n",
    "        print(f'Epoch {epoch+1}/{num_epochs}, Training Loss: {train_loss:.4f}, Validation Loss: {val_loss:.4f}')\n",
    "    best_model =  copy.deepcopy(local_model)\n",
    "    best_model.load_state_dict(torch.load('best_model_'+str(model_number)+'.pth'))\n",
    "    return best_model"
   ]
  },
  {
   "cell_type": "code",
   "execution_count": 11,
   "metadata": {},
   "outputs": [],
   "source": [
    "def rmspe(y_true, y_pred):\n",
    "    EPSILON = 1e-10\n",
    "    return (np.sqrt(np.mean(np.square((y_true - y_pred) / (y_true + EPSILON))))) * 100"
   ]
  },
  {
   "cell_type": "code",
   "execution_count": 15,
   "metadata": {},
   "outputs": [],
   "source": [
    "# n_nodes = 'number of nodes'\n",
    "# main_model = 'Model central'\n",
    "# model_dict = init_nodes_dict(n_nodes, main_model) dictionnary of local models\n",
    "def fed_training_plan(data_dict,rounds=3,epoch=200):\n",
    "    nodes = len(data_dict)\n",
    "    main_model = LSTMModel(input_size=1, hidden_size=32, num_layers=6, output_size=1)\n",
    "    model_dict = init_model(nodes,main_model)\n",
    "    for round in range(1,rounds+1):\n",
    "        print('INIT ROUND {} :'.format(round))\n",
    "        model_dict = send_model(main_model, model_dict, 5)\n",
    "        for i in range(nodes):\n",
    "            print('Training node {} for round {}'.format(i, round))\n",
    "            model_dict[i] = train_local_model(i,model_dict[i],data_dict[i]['train'], data_dict[i]['val'],epochs)\n",
    "            if round ==1:\n",
    "                torch.save(main_model.state_dict(), './../fed/local{}.pth'.format(i))\n",
    "        print('FedAVG for round {}:'.format(round))\n",
    "        main_model = fedavg(main_model, model_dict, nodes)\n",
    "        print('Done')\n",
    "        torch.save(main_model.state_dict(), './../fed/model_round_{}.pth'.format(round))\n",
    "    print(\"FedAvg All Rounds Complete !\")"
   ]
  },
  {
   "cell_type": "code",
   "execution_count": null,
   "metadata": {},
   "outputs": [],
   "source": []
  }
 ],
 "metadata": {
  "kernelspec": {
   "display_name": "base",
   "language": "python",
   "name": "python3"
  },
  "language_info": {
   "codemirror_mode": {
    "name": "ipython",
    "version": 3
   },
   "file_extension": ".py",
   "mimetype": "text/x-python",
   "name": "python",
   "nbconvert_exporter": "python",
   "pygments_lexer": "ipython3",
   "version": "3.10.9"
  },
  "orig_nbformat": 4,
  "vscode": {
   "interpreter": {
    "hash": "5838ee9d1e27b0c8776a2c47d844e546f7c02646b3dffe8b9f56b6c67f7dd71a"
   }
  }
 },
 "nbformat": 4,
 "nbformat_minor": 2
}
