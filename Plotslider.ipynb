{
 "cells": [
  {
   "cell_type": "code",
   "execution_count": 4,
   "metadata": {},
   "outputs": [],
   "source": [
    "from os import makedirs\n",
    "import torch\n",
    "import importlib\n",
    "import contextlib\n",
    "\n",
    "from src.utils_data import load_PeMS04_flow_data, preprocess_PeMS_data, local_dataset, plot_prediction\n",
    "from src.utils_training import train_model, testmodel\n",
    "from src.utils_fed import fed_training_plan\n",
    "from src.metrics import calculate_metrics, metrics_table, Percentage_of_Superior_Predictions\n",
    "import src.config\n",
    "import sys\n",
    "\n",
    "import json \n",
    "params = src.config.Params('config.json')\n",
    "module_name = 'src.models'\n",
    "class_name = params.model\n",
    "module = importlib.import_module(module_name)\n",
    "model = getattr(module, class_name)\n",
    "\n",
    "input_size = 1\n",
    "hidden_size = 32\n",
    "num_layers = 6\n",
    "output_size = 1\n",
    "\n",
    "#Load traffic flow dataframe and graph dataframe from PEMS\n",
    "df_PeMS, distance = load_PeMS04_flow_data()\n",
    "df_PeMS, adjmat, meanstd_dict = preprocess_PeMS_data(df_PeMS, distance, params.init_node, params.n_neighbours,\n",
    "                                                    params.smooth, params.center_and_reduce,\n",
    "                                                    params.normalize, params.sort_by_mean)\n",
    "datadict = local_dataset(df = df_PeMS,\n",
    "                        nodes = params.nodes_to_filter,\n",
    "                        window_size=params.window_size,\n",
    "                        stride=params.stride,\n",
    "                        prediction_horizon=params.prediction_horizon)\n",
    "y_true, y_pred, y_true_fed, y_pred_fed = {},{},{},{}\n",
    "\n",
    "for node in range(len(params.nodes_to_filter)):\n",
    "    y_true[node], y_pred[node] = testmodel(model(1,32,1), datadict[node]['test'], f'{params.save_model_path}local{node}.pth', meanstd_dict = meanstd_dict, sensor_order_list=[params.nodes_to_filter[node]])  \n",
    "\n",
    "    y_true_fed[node], y_pred_fed[node] = testmodel(model(1,32,1), datadict[node]['test'], f'{params.save_model_path}bestmodel_node{node}.pth', meanstd_dict = meanstd_dict, sensor_order_list=[params.nodes_to_filter[node]])\n",
    "\n",
    "def plot_comparison(y_true, y_pred, y_pred_fed,node):  \n",
    "    from src.metrics import rmse\n",
    "    import matplotlib.pyplot as plt\n",
    "    import matplotlib.dates as mdates\n",
    "    import ipywidgets as widgets\n",
    "    from IPython.display import display\n",
    "    y_true, y_pred, y_pred_fed = y_true[node], y_pred[node], y_pred_fed[node]\n",
    "    test_set = datadict[node]['test_data']*meanstd_dict[params.nodes_to_filter[node]]['std']+ meanstd_dict[params.nodes_to_filter[node]]['mean']\n",
    "    index= test_set.index\n",
    "\n",
    "    def plot_slider(i):\n",
    "        plt.figure(figsize=(20, 9))\n",
    "        \n",
    "        # Plot first subplot\n",
    "        plt.subplot(2, 1, 1)\n",
    "        plt.axvspan(index[i], index[i+ params.window_size -1], alpha=0.1, color='gray')\n",
    "        plt.plot(index[i:i+params.window_size], test_set[i:i+params.window_size], label='Window')\n",
    "        plt.plot(index[i+params.window_size-1:i+params.window_size + params.prediction_horizon], test_set[i+params.window_size -1 :i+params.window_size + params.prediction_horizon], label='y_true')\n",
    "        plt.scatter(index[i+params.window_size:i+ params.window_size + params.prediction_horizon], y_pred_fed[i, :], color='blue', label='Federated prediction')\n",
    "        plt.plot(index[i+params.window_size:i +params.window_size + params.prediction_horizon], y_pred_fed[i, :], color='blue', linestyle='-', linewidth=1)\n",
    "        \n",
    "        ax = plt.gca()\n",
    "        ax.xaxis.set_major_locator(mdates.HourLocator(interval=1))\n",
    "        ax.xaxis.set_minor_locator(mdates.MinuteLocator(interval=5))\n",
    "        ax.xaxis.set_major_formatter(mdates.DateFormatter('%H:%M'))\n",
    "        plt.xlabel('Time')\n",
    "        plt.ylabel('Traffic Flow')\n",
    "        plt.title(\"Federated Prediction for the {}\".format(index[i].strftime('%Y-%m-%d')), fontsize=18, fontweight='bold')\n",
    "        plt.legend(fontsize='large')\n",
    "    #    plt.text(index[i+84], max(y_pred_fed[i,:]+50), f'RMSE: {rmse(y_true[i, :].flatten(), y_pred_fed[i, :].flatten()):.2f}', fontsize='large', fontweight='bold')\n",
    "\n",
    "        \n",
    "        # Plot second subplot\n",
    "        plt.subplot(2, 1, 2)\n",
    "        plt.axvspan(index[i], index[i+params.window_size -1], alpha=0.1, color='gray')\n",
    "        plt.plot(index[i:i+ params.window_size], test_set[i:i+params.window_size], label='Window')\n",
    "        plt.plot(index[i+params.window_size-1 :i+ params.window_size +params.prediction_horizon], test_set[i+params.window_size-1:i+params.window_size +params.prediction_horizon], label='y_true')\n",
    "        plt.scatter(index[i+params.window_size:i+ params.window_size +params.prediction_horizon], y_pred[i, :], color='green', label='Local prediction')\n",
    "        plt.plot(index[i+ params.window_size :i+ params.window_size +params.prediction_horizon], y_pred[i, :], color='green', linestyle='-', linewidth=1)\n",
    "        \n",
    "        ax = plt.gca()\n",
    "        ax.xaxis.set_major_locator(mdates.HourLocator(interval=1))\n",
    "        ax.xaxis.set_minor_locator(mdates.MinuteLocator(interval=5))\n",
    "        ax.xaxis.set_major_formatter(mdates.DateFormatter('%H:%M'))\n",
    "        \n",
    "        plt.xlabel('Time')\n",
    "        plt.ylabel('Traffic Flow')\n",
    "        plt.title(\"Local Prediction for the {}\".format(index[i].strftime('%Y-%m-%d')), fontsize=18, fontweight='bold')\n",
    "        plt.legend(fontsize='large')\n",
    "        # plt.text(index[i+84], max(y_pred[i,:]+50), f'RMSE: {rmse(y_true_fed[i, :].flatten(), y_pred[i, :].flatten()):.2f}', fontsize='large', fontweight='bold')\n",
    "\n",
    "        plt.tight_layout()\n",
    "        plt.subplots_adjust(hspace=0.5) \n",
    "        plt.show()\n",
    "\n",
    "    slider = widgets.IntSlider(min=0, max=len(y_true)-params.window_size, value=0, description='Index')\n",
    "\n",
    "    def update_slider_description(change):\n",
    "        index_value = index[change.new +params.window_size].strftime('%H:%M')\n",
    "        slider.description = f'Index: {index_value}'\n",
    "\n",
    "    slider.observe(update_slider_description, 'value')\n",
    "\n",
    "    interactive_plot = widgets.interactive(plot_slider, i=slider)\n",
    "    display(interactive_plot)"
   ]
  },
  {
   "cell_type": "code",
   "execution_count": 3,
   "metadata": {},
   "outputs": [
    {
     "name": "stdout",
     "output_type": "stream",
     "text": [
      "For node 118\n"
     ]
    },
    {
     "data": {
      "application/vnd.jupyter.widget-view+json": {
       "model_id": "6e0a089c82c042f5979e2591b7d62c1b",
       "version_major": 2,
       "version_minor": 0
      },
      "text/plain": [
       "interactive(children=(IntSlider(value=0, description='Index', max=2370), Output()), _dom_classes=('widget-inte…"
      ]
     },
     "metadata": {},
     "output_type": "display_data"
    },
    {
     "name": "stdout",
     "output_type": "stream",
     "text": [
      "For node 168\n"
     ]
    },
    {
     "data": {
      "application/vnd.jupyter.widget-view+json": {
       "model_id": "438ad9632b854d65b2ced35db07d9484",
       "version_major": 2,
       "version_minor": 0
      },
      "text/plain": [
       "interactive(children=(IntSlider(value=0, description='Index', max=2370), Output()), _dom_classes=('widget-inte…"
      ]
     },
     "metadata": {},
     "output_type": "display_data"
    },
    {
     "name": "stdout",
     "output_type": "stream",
     "text": [
      "For node 261\n"
     ]
    },
    {
     "data": {
      "application/vnd.jupyter.widget-view+json": {
       "model_id": "c8b5c45976be45eb937ba880074a3d07",
       "version_major": 2,
       "version_minor": 0
      },
      "text/plain": [
       "interactive(children=(IntSlider(value=0, description='Index', max=2370), Output()), _dom_classes=('widget-inte…"
      ]
     },
     "metadata": {},
     "output_type": "display_data"
    }
   ],
   "source": [
    "for node in range(params.number_of_nodes):\n",
    "    print(f'For node {params.nodes_to_filter[node]}')\n",
    "    plot_comparison(y_true, y_pred, y_pred_fed)"
   ]
  },
  {
   "cell_type": "code",
   "execution_count": null,
   "metadata": {},
   "outputs": [],
   "source": []
  }
 ],
 "metadata": {
  "kernelspec": {
   "display_name": "base",
   "language": "python",
   "name": "python3"
  },
  "language_info": {
   "codemirror_mode": {
    "name": "ipython",
    "version": 3
   },
   "file_extension": ".py",
   "mimetype": "text/x-python",
   "name": "python",
   "nbconvert_exporter": "python",
   "pygments_lexer": "ipython3",
   "version": "3.10.9"
  },
  "orig_nbformat": 4
 },
 "nbformat": 4,
 "nbformat_minor": 2
}
